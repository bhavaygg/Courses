{
 "cells": [
  {
   "cell_type": "markdown",
   "metadata": {},
   "source": [
    "# Q1"
   ]
  },
  {
   "cell_type": "code",
   "execution_count": 11,
   "metadata": {},
   "outputs": [
    {
     "name": "stdout",
     "output_type": "stream",
     "text": [
      "ACTAGGATCA\n",
      "Consensus String: ACTAGGATCA\n",
      "Hamming Distance: 0 because input and consensus string are the same\n",
      "Number of 1 Mutations: 30\n",
      "Number of 2 Mutations: 405\n"
     ]
    }
   ],
   "source": [
    "import operator\n",
    "\n",
    "abc=input()\n",
    "\n",
    "nuc=[\"A\",\"T\",\"C\",\"G\"]\n",
    "strs=[]\n",
    "for n,i in enumerate(abc):#1 mutation\n",
    "    for j in nuc:\n",
    "        if j!=i:\n",
    "            if n!=len(abc)-1:\n",
    "                strs.append(abc[:n]+j+abc[n+1:])\n",
    "            else:\n",
    "                strs.append(abc[:n]+j)\n",
    "count1 = len(strs)\n",
    "for n,i in enumerate(abc):  #2 mutations\n",
    "    for n1,j in enumerate(abc):\n",
    "        if n1>n:\n",
    "            for k in nuc:\n",
    "                for l in nuc:\n",
    "                    if k!=i and l!=j:\n",
    "                        if n1!=len(abc)-1:\n",
    "                            strs.append(abc[:n]+k+abc[n+1:n1]+l+abc[n1+1:])\n",
    "                        else:\n",
    "                            strs.append(abc[:n]+k+abc[n+1:n1]+l)\n",
    "\n",
    "count2 = len(strs) - count1\n",
    "consensus=\"\"\n",
    "for i in range(0,len(abc)):\n",
    "    count={\"A\":0,\"T\":0,\"C\":0,\"G\":0}\n",
    "    for n,j in enumerate(strs):\n",
    "        count[strs[n][i]]+=1\n",
    "    consensus+=max(count.items(), key=operator.itemgetter(1))[0]\n",
    "print(\"Consensus String:\",consensus)\n",
    "print(\"Hamming Distance: 0 because input and consensus string are the same\")\n",
    "print(\"Number of 1 Mutations:\",count1)\n",
    "print(\"Number of 2 Mutations:\",count2)"
   ]
  },
  {
   "cell_type": "markdown",
   "metadata": {},
   "source": [
    "${1  Mutations} =  ^{N}{C}_{1} * {4}$ <br>\n",
    "${2  Mutations} =  {[N}*{(N-1)}{/2]} * {9}$"
   ]
  },
  {
   "cell_type": "markdown",
   "metadata": {},
   "source": [
    "# Q2"
   ]
  },
  {
   "cell_type": "code",
   "execution_count": 5,
   "metadata": {},
   "outputs": [],
   "source": [
    "import subprocess\n",
    "\n",
    "name= \"SRR494088\"\n",
    "bashCommand = \"fastq-dump --split-3 \"+name\n",
    "process = subprocess.Popen(bashCommand.split(), stdout=subprocess.PIPE)\n",
    "output, error = process.communicate()"
   ]
  },
  {
   "cell_type": "code",
   "execution_count": 12,
   "metadata": {
    "scrolled": true
   },
   "outputs": [
    {
     "name": "stdout",
     "output_type": "stream",
     "text": [
      "Read Length: 36\n",
      "Number of Reads: 974849.0\n"
     ]
    },
    {
     "data": {
      "image/png": "[encoded data removed]",
      "text/plain": [
       "<Figure size 432x288 with 1 Axes>"
      ]
     },
     "metadata": {
      "needs_background": "light"
     },
     "output_type": "display_data"
    }
   ],
   "source": [
    "import matplotlib.pyplot as plt\n",
    "filename=\"SRR390728_1.fastq\"\n",
    "with open(filename) as fp:\n",
    "\tfp=fp.read().splitlines()\n",
    "\tmin_len=10000000\n",
    "\tfor i in range(0,len(fp),4):#find minimum read length\n",
    "\t\tlength = int(fp[i][fp[i].index(\"length=\")+7:])\n",
    "\t\tif length<min_len:\n",
    "\t\t\tmin_len=length\n",
    "\tlength=min_len\n",
    "\tprint(\"Read Length:\",length)\n",
    "\tprint(\"Number of Reads:\",len(fp)/4)\n",
    "\tA=[]\n",
    "\tT=[]\n",
    "\tC=[]\n",
    "\tG=[]\n",
    "\tdic={}\n",
    "\tfor i in range(0,int(length)):#count position wise frequency\n",
    "\t\tdic[i]={\"A\":0,\"T\":0,\"C\":0,\"G\":0,\"N\":0}\n",
    "\tfor i in range(1,len(fp),4):\n",
    "\t\t#print(fp[i])\n",
    "\t\tfor n,j in enumerate(fp[i]):\n",
    "\t\t\tdic[n][j]+=1\n",
    "\tfor i in dic:\n",
    "\t\tA.append(dic[i][\"A\"])\n",
    "\t\tT.append(dic[i][\"T\"])\n",
    "\t\tC.append(dic[i][\"C\"])\n",
    "\t\tG.append(dic[i][\"G\"])\n",
    "        \n",
    "\tplt.plot(range(len(A)),A,\"b.-\",label=\"A\")\n",
    "\tplt.plot(range(len(T)),T,\"g.-\",label=\"T\")\n",
    "\tplt.plot(range(len(C)),C,\"y.-\",label=\"C\")\n",
    "\tplt.plot(range(len(G)),G,\"r.-\",label=\"G\")\n",
    "\tplt.legend(loc=\"upper right\")\n",
    "\tplt.show()"
   ]
  },
  {
   "cell_type": "markdown",
   "metadata": {},
   "source": [
    "# Q3"
   ]
  },
  {
   "cell_type": "code",
   "execution_count": 13,
   "metadata": {},
   "outputs": [
    {
     "name": "stdout",
     "output_type": "stream",
     "text": [
      "Motif: TCATGGATTG\n",
      "Consensus Motif ACTTTTATAT\n"
     ]
    }
   ],
   "source": [
    "import random\n",
    "import operator\n",
    "\n",
    "nuc=[\"A\",\"T\",\"C\",\"G\"]\n",
    "stras=[]\n",
    "strs=[]\n",
    "for i in range(0,100):#generate sequences\n",
    "    temp=\"\"\n",
    "    for i in range(0,1000):\n",
    "        d=random.randint(0,3)\n",
    "        temp+=(nuc[d])\n",
    "    stras.append(temp)\n",
    "\n",
    "motif=\"\"\n",
    "for i in range(0,10):#generate motif\n",
    "    t = random.randint(0,3)\n",
    "    motif+=nuc[t]\n",
    "\n",
    "\n",
    "print(\"Motif:\",motif)\n",
    "\n",
    "for n,i in enumerate(motif):#1 mutation in motif\n",
    "    for j in nuc:\n",
    "        if j!=i:\n",
    "            if n!=len(motif)-1:\n",
    "                strs.append(motif[:n]+j+motif[n+1:])\n",
    "            else:\n",
    "                strs.append(motif[:n]+j)\n",
    "for n,i in enumerate(motif):#2 mutations in motif  \n",
    "    for n1,j in enumerate(motif):\n",
    "        if n1>n:\n",
    "            for k in nuc:\n",
    "                for l in nuc:\n",
    "                    if k!=i and l!=j:\n",
    "                        if n1!=len(motif)-1:\n",
    "                            strs.append(motif[:n]+k+motif[n+1:n1]+l+motif[n1+1:])\n",
    "                        else:\n",
    "                            strs.append(motif[:n]+k+motif[n+1:n1]+l)\n",
    "\n",
    "motifs=strs\n",
    "mod_strs=[]\n",
    "\n",
    "for i in stras:#add motif to sequences\n",
    "    pos=random.randint(0,len(i)-1)\n",
    "    ra_motif = random.randint(0,len(motifs)-1)\n",
    "    if pos != len(i)-1:\n",
    "        mod_strs.append(i[:pos]+motifs[ra_motif]+i[pos:])\n",
    "    else:\n",
    "        mod_strs.append(i[:pos]+motifs[ra_motif])\n",
    "\n",
    "\n",
    "d=1\n",
    "change=[0 for x in range(100)]\n",
    "rs = [random.randint(0, 99) for x in mod_strs]\n",
    "while d==1:#gibbs sampling\n",
    "    matrix=[]\n",
    "    for n,i in enumerate(rs):\n",
    "        matrix.append(mod_strs[n][i:i+10])\n",
    "    seq_num = random.randint(0,99)\n",
    "    seq = mod_strs[seq_num]\n",
    "    con=\"\"\n",
    "    count_mat=[]\n",
    "    pp_vals=[]\n",
    "    for i in range(0,10):\n",
    "        count={\"A\":0,\"T\":0,\"C\":0,\"G\":0}\n",
    "        for n,k in enumerate(matrix):\n",
    "            if n!=seq_num:\n",
    "                count[matrix[n][i]]+=1\n",
    "        count_mat.append(count)\n",
    "        con+=max(count.items(), key=operator.itemgetter(1))[0]\n",
    "    for n,i in enumerate(seq[:-10]):\n",
    "        temp=seq[n:n+10]\n",
    "        pp=1\n",
    "        for n1,j in enumerate(temp):\n",
    "            pp*= count_mat[n1][j]/sum(count_mat[n1].values())\n",
    "        pp_vals.append(pp)\n",
    "    ind=pp_vals.index(max(pp_vals))\n",
    "    max_pp = max(pp_vals)\n",
    "    if rs[seq_num]==ind:\n",
    "        change[seq_num]=1\n",
    "    else:\n",
    "        rs[seq_num] = ind\n",
    "    if 0 not in change:\n",
    "        d=0\n",
    "\n",
    "print(\"Consensus Motif\",con)"
   ]
  }
 ],
 "metadata": {
  "kernelspec": {
   "display_name": "Python 3",
   "language": "python",
   "name": "python3"
  },
  "language_info": {
   "codemirror_mode": {
    "name": "ipython",
    "version": 3
   },
   "file_extension": ".py",
   "mimetype": "text/x-python",
   "name": "python",
   "nbconvert_exporter": "python",
   "pygments_lexer": "ipython3",
   "version": "3.8.0"
  }
 },
 "nbformat": 4,
 "nbformat_minor": 4
}
